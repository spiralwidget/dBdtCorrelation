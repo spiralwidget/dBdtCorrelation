{
 "cells": [
  {
   "cell_type": "markdown",
   "id": "239fc260",
   "metadata": {},
   "source": [
    "# Data import for given station and given time period. Import also allows for parameter selection in output file."
   ]
  },
  {
   "cell_type": "code",
   "execution_count": 14,
   "id": "67516318",
   "metadata": {},
   "outputs": [],
   "source": [
    "from viresclient import SwarmRequest\n",
    "import hapiclient\n",
    "from hapiclient.util import pythonshell\n",
    "import pandas as pd\n",
    "import xarray as xr\n",
    "import numpy as np\n",
    "import matplotlib.pyplot as plt\n",
    "from datetime import datetime, timedelta\n",
    "from chaosmagpy import load_CHAOS_matfile\n",
    "from chaosmagpy.model_utils import synth_values\n",
    "from chaosmagpy.data_utils import mjd2000 # Modified Julian date\n",
    "\n",
    "import utils"
   ]
  },
  {
   "cell_type": "markdown",
   "id": "79b3794f",
   "metadata": {},
   "source": [
    "The objective of this notebook is to download the full input data for a period of time and a given station. This notebook then exports the data to a csv file."
   ]
  },
  {
   "cell_type": "code",
   "execution_count": 15,
   "id": "d5d19015",
   "metadata": {},
   "outputs": [
    {
     "name": "stdout",
     "output_type": "stream",
     "text": [
      "\n",
      "Accessing INTERMAGNET and/or WDC data\n",
      "Check usage terms at ftp://ftp.nerc-murchison.ac.uk/geomag/Swarm/AUX_OBS/minute/README\n",
      "\n"
     ]
    },
    {
     "data": {
      "application/vnd.jupyter.widget-view+json": {
       "model_id": "ea5fde4c13df4c23a6368557a09b5e74",
       "version_major": 2,
       "version_minor": 0
      },
      "text/plain": [
       "Processing:    0%|          |  [ Elapsed: 00:00, Remaining: ? ] [1/1] "
      ]
     },
     "metadata": {},
     "output_type": "display_data"
    },
    {
     "data": {
      "application/vnd.jupyter.widget-view+json": {
       "model_id": "53aae7a13ef04f188af8f74fc597dbbc",
       "version_major": 2,
       "version_minor": 0
      },
      "text/plain": [
       "Downloading:   0%|          |  [ Elapsed: 00:00, Remaining: ? ] (0.174MB)"
      ]
     },
     "metadata": {},
     "output_type": "display_data"
    }
   ],
   "source": [
    "###Define station and time parameters, and OMNI parameters.\n",
    "\n",
    "### Time parameters\n",
    "start_date= 1998\n",
    "end_date=2020\n",
    "\n",
    "### Observatory parameters\n",
    "observatory='NGK' \n",
    "\n",
    "### Download observatory metadata:\n",
    "obsmeta = utils.fetch_ground_obs(observatory,'1998-01-01','1998-01-03')\n",
    "latitude = obsmeta.attrs['Latitude_GEO']\n",
    "longitude_deg = obsmeta.attrs['Longitude_GEO']\n",
    "radius = obsmeta.attrs['Radius_GEO']\n",
    "\n",
    "\n",
    "###OPTIONAL: input radius, latitude,longitude manually\n",
    "#latitude=55.31\n",
    "#longitude_deg=356.79 ##longitude is in degrees from Prime Meridian, i.e. 1 degree west is 359 degrees\n",
    "#radius= 6371"
   ]
  },
  {
   "cell_type": "code",
   "execution_count": 16,
   "id": "a698a485",
   "metadata": {},
   "outputs": [
    {
     "name": "stdout",
     "output_type": "stream",
     "text": [
      "list of years to be downloaded:\n",
      "DatetimeIndex(['1998-01-01', '1999-01-01', '2000-01-01', '2001-01-01',\n",
      "               '2002-01-01', '2003-01-01', '2004-01-01', '2005-01-01',\n",
      "               '2006-01-01', '2007-01-01', '2008-01-01', '2009-01-01',\n",
      "               '2010-01-01', '2011-01-01', '2012-01-01', '2013-01-01',\n",
      "               '2014-01-01', '2015-01-01', '2016-01-01', '2017-01-01',\n",
      "               '2018-01-01', '2019-01-01', '2020-01-01'],\n",
      "              dtype='datetime64[ns]', freq='AS-JAN')\n"
     ]
    }
   ],
   "source": [
    "###Step 1; Get year data into correct time indexing format\n",
    "\n",
    "\n",
    "start_date_str= f'{start_date}-01-01'\n",
    "end_date_str=f'{end_date}-01-01'\n",
    "\n",
    "year_range=pd.date_range(start_date_str, end_date_str, freq='1YS')\n",
    "\n",
    "print('list of years to be downloaded:')\n",
    "print(year_range)"
   ]
  },
  {
   "cell_type": "code",
   "execution_count": 17,
   "id": "ba5a4c59",
   "metadata": {},
   "outputs": [
    {
     "data": {
      "text/html": [
       "<div>\n",
       "<style scoped>\n",
       "    .dataframe tbody tr th:only-of-type {\n",
       "        vertical-align: middle;\n",
       "    }\n",
       "\n",
       "    .dataframe tbody tr th {\n",
       "        vertical-align: top;\n",
       "    }\n",
       "\n",
       "    .dataframe thead th {\n",
       "        text-align: right;\n",
       "    }\n",
       "</style>\n",
       "<table border=\"1\" class=\"dataframe\">\n",
       "  <thead>\n",
       "    <tr style=\"text-align: right;\">\n",
       "      <th></th>\n",
       "      <th>B_radius</th>\n",
       "      <th>B_phi</th>\n",
       "      <th>B_theta</th>\n",
       "      <th>B_H</th>\n",
       "    </tr>\n",
       "  </thead>\n",
       "  <tbody>\n",
       "    <tr>\n",
       "      <th>1998-01-01 00:00:00</th>\n",
       "      <td>-45003.735634</td>\n",
       "      <td>355.676092</td>\n",
       "      <td>-18613.382250</td>\n",
       "      <td>18616.780180</td>\n",
       "    </tr>\n",
       "    <tr>\n",
       "      <th>1998-01-01 00:01:00</th>\n",
       "      <td>-45003.735702</td>\n",
       "      <td>355.676163</td>\n",
       "      <td>-18613.382255</td>\n",
       "      <td>18616.780186</td>\n",
       "    </tr>\n",
       "    <tr>\n",
       "      <th>1998-01-01 00:02:00</th>\n",
       "      <td>-45003.735769</td>\n",
       "      <td>355.676235</td>\n",
       "      <td>-18613.382259</td>\n",
       "      <td>18616.780192</td>\n",
       "    </tr>\n",
       "    <tr>\n",
       "      <th>1998-01-01 00:03:00</th>\n",
       "      <td>-45003.735837</td>\n",
       "      <td>355.676306</td>\n",
       "      <td>-18613.382263</td>\n",
       "      <td>18616.780197</td>\n",
       "    </tr>\n",
       "    <tr>\n",
       "      <th>1998-01-01 00:04:00</th>\n",
       "      <td>-45003.735904</td>\n",
       "      <td>355.676378</td>\n",
       "      <td>-18613.382267</td>\n",
       "      <td>18616.780203</td>\n",
       "    </tr>\n",
       "    <tr>\n",
       "      <th>...</th>\n",
       "      <td>...</td>\n",
       "      <td>...</td>\n",
       "      <td>...</td>\n",
       "      <td>...</td>\n",
       "    </tr>\n",
       "    <tr>\n",
       "      <th>2020-12-30 23:56:00</th>\n",
       "      <td>-45848.121978</td>\n",
       "      <td>1365.227373</td>\n",
       "      <td>-18687.930509</td>\n",
       "      <td>18737.731786</td>\n",
       "    </tr>\n",
       "    <tr>\n",
       "      <th>2020-12-30 23:57:00</th>\n",
       "      <td>-45848.121978</td>\n",
       "      <td>1365.227373</td>\n",
       "      <td>-18687.930509</td>\n",
       "      <td>18737.731786</td>\n",
       "    </tr>\n",
       "    <tr>\n",
       "      <th>2020-12-30 23:58:00</th>\n",
       "      <td>-45848.121978</td>\n",
       "      <td>1365.227373</td>\n",
       "      <td>-18687.930509</td>\n",
       "      <td>18737.731786</td>\n",
       "    </tr>\n",
       "    <tr>\n",
       "      <th>2020-12-30 23:59:00</th>\n",
       "      <td>-45848.121978</td>\n",
       "      <td>1365.227373</td>\n",
       "      <td>-18687.930509</td>\n",
       "      <td>18737.731786</td>\n",
       "    </tr>\n",
       "    <tr>\n",
       "      <th>2020-12-31 00:00:00</th>\n",
       "      <td>-45848.121978</td>\n",
       "      <td>1365.227373</td>\n",
       "      <td>-18687.930509</td>\n",
       "      <td>18737.731786</td>\n",
       "    </tr>\n",
       "  </tbody>\n",
       "</table>\n",
       "<p>12096001 rows × 4 columns</p>\n",
       "</div>"
      ],
      "text/plain": [
       "                         B_radius        B_phi       B_theta           B_H\n",
       "1998-01-01 00:00:00 -45003.735634   355.676092 -18613.382250  18616.780180\n",
       "1998-01-01 00:01:00 -45003.735702   355.676163 -18613.382255  18616.780186\n",
       "1998-01-01 00:02:00 -45003.735769   355.676235 -18613.382259  18616.780192\n",
       "1998-01-01 00:03:00 -45003.735837   355.676306 -18613.382263  18616.780197\n",
       "1998-01-01 00:04:00 -45003.735904   355.676378 -18613.382267  18616.780203\n",
       "...                           ...          ...           ...           ...\n",
       "2020-12-30 23:56:00 -45848.121978  1365.227373 -18687.930509  18737.731786\n",
       "2020-12-30 23:57:00 -45848.121978  1365.227373 -18687.930509  18737.731786\n",
       "2020-12-30 23:58:00 -45848.121978  1365.227373 -18687.930509  18737.731786\n",
       "2020-12-30 23:59:00 -45848.121978  1365.227373 -18687.930509  18737.731786\n",
       "2020-12-31 00:00:00 -45848.121978  1365.227373 -18687.930509  18737.731786\n",
       "\n",
       "[12096001 rows x 4 columns]"
      ]
     },
     "execution_count": 17,
     "metadata": {},
     "output_type": "execute_result"
    }
   ],
   "source": [
    "###Step 2; Download magnetic field model for given station.\n",
    "\n",
    "\n",
    "CHAOS7 = utils.loadChaosModel(start_date,end_date,latitude,longitude_deg)\n",
    "CHAOS7\n",
    "\n",
    "###NOTE: This function assumes constant radius, which is not the case; radius varies according to latitude and height\n",
    "###from sea level. Change radius= parameter (last parameter in function) to get more accurate.\n",
    "\n",
    "###Further NOTE: this function does not include the last 24 hours of the period in question. Consider\n",
    "###changing this if possible."
   ]
  },
  {
   "cell_type": "code",
   "execution_count": null,
   "id": "455de0d0",
   "metadata": {},
   "outputs": [
    {
     "name": "stdout",
     "output_type": "stream",
     "text": [
      "Downloading Observatory data for NGK 1998 to 2020\n",
      "\n",
      "Accessing INTERMAGNET and/or WDC data\n",
      "Check usage terms at ftp://ftp.nerc-murchison.ac.uk/geomag/Swarm/AUX_OBS/minute/README\n",
      "\n"
     ]
    },
    {
     "data": {
      "application/vnd.jupyter.widget-view+json": {
       "model_id": "fd49c4d2a1014d8cb5047388f4251030",
       "version_major": 2,
       "version_minor": 0
      },
      "text/plain": [
       "          |  [ Elapsed: 00:00, Remaining: ?]  "
      ]
     },
     "metadata": {},
     "output_type": "display_data"
    },
    {
     "data": {
      "application/vnd.jupyter.widget-view+json": {
       "model_id": "db7e71f59a8c4babb689ca1818112496",
       "version_major": 2,
       "version_minor": 0
      },
      "text/plain": [
       "Processing:    0%|          |  [ Elapsed: 00:00, Remaining: ? ] [1/3] "
      ]
     },
     "metadata": {},
     "output_type": "display_data"
    },
    {
     "data": {
      "application/vnd.jupyter.widget-view+json": {
       "model_id": "1a84892172b54edf8e1a534a61afdb55",
       "version_major": 2,
       "version_minor": 0
      },
      "text/plain": [
       "Downloading:   0%|          |  [ Elapsed: 00:00, Remaining: ? ] (246.975MB)"
      ]
     },
     "metadata": {},
     "output_type": "display_data"
    }
   ],
   "source": [
    "###Step 3; loop over years and download observatory data\n",
    "    \n",
    "    \n",
    "##Define start and end of download period for this year\n",
    "start= start_date_str\n",
    "end= end_date_str\n",
    "\n",
    "print('Downloading Observatory data for',observatory,str(start)[:4],'to',str(end)[:4])\n",
    "\n",
    "obs = utils.fetch_ground_obs(observatory, start, end)#Download obs data\n",
    "obs = utils.manipulate_obs_data(obs,CHAOS7)#Manipulate obs data to remove background mag field"
   ]
  },
  {
   "cell_type": "code",
   "execution_count": null,
   "id": "e6c321fa",
   "metadata": {},
   "outputs": [],
   "source": [
    "#print(events_tot['B_N'])\n",
    "\n",
    "print(obs)\n",
    "\n",
    "plt.plot(obs['Timestamp'])\n",
    "plt.show()\n",
    "plt.plot(obs['B_N'])\n",
    "plt.show()"
   ]
  },
  {
   "cell_type": "code",
   "execution_count": null,
   "id": "f48dfee5",
   "metadata": {},
   "outputs": [],
   "source": [
    "###Step 4: get current directory and set PATH variable to where data will be saved.\n",
    "\n",
    "import os\n",
    "\n",
    "# Get the current working directory\n",
    "current_path = os.getcwd()\n",
    "\n",
    "# Print the current working directory\n",
    "print(\"Current working directory:\", current_path)\n",
    "\n",
    "#define path to data folder where data will be placed. Print current path if you don't know what it is!\n",
    "PATH = '/mnt/c/users/s1725621/Documents/PhDCode/Git/dBdtCorrelation/data/'"
   ]
  },
  {
   "cell_type": "code",
   "execution_count": null,
   "id": "79d3430b",
   "metadata": {},
   "outputs": [],
   "source": [
    "###Step 5: save observatory data.\n",
    "\n",
    "###Save to netcdf file\n",
    "##obs.to_netcdf(path = PATH+observatory+str(start)[:4]+str(end)[:4]+'.nc')\n",
    "\n",
    "###Save to csv file\n",
    "# Convert xarray Dataset to pandas DataFrame\n",
    "obf = obs.to_dataframe()\n",
    "\n",
    "# Save the DataFrame to a CSV file\n",
    "obf.to_csv(PATH+observatory+str(start)[:4]+str(end)[:4]+'.csv',index=True)"
   ]
  },
  {
   "cell_type": "markdown",
   "id": "c9e14c6a",
   "metadata": {},
   "source": [
    "# Loop through observatories and download all into data folder."
   ]
  },
  {
   "cell_type": "code",
   "execution_count": null,
   "id": "a2fa0b2b",
   "metadata": {},
   "outputs": [],
   "source": [
    "###Import list of observatories from csv.\n",
    "df = pd.read_csv(\"data/ObsListimo.csv\")\n",
    "print(df['Code'])"
   ]
  },
  {
   "cell_type": "code",
   "execution_count": null,
   "id": "d95e0069",
   "metadata": {},
   "outputs": [],
   "source": [
    "for i in df['Code']:\n",
    "    try:\n",
    "        ### Observatory parameters \n",
    "        i=str(i)\n",
    "        \n",
    "        ### Download observatory metadata:\n",
    "        obsmetai = utils.fetch_ground_obs(i,'1998-01-01','1998-01-03')\n",
    "        latitudei = obsmetai.attrs['Latitude_GEO']\n",
    "        longitude_degi = obsmetai.attrs['Longitude_GEO']\n",
    "        radiusi = obsmetai.attrs['Radius_GEO']\n",
    "        \n",
    "        ###Find model values for this station\n",
    "        CHAOS7i = utils.loadChaosModel(start_date,end_date,latitudei,longitude_degi)\n",
    "        \n",
    "        ###Download data.\n",
    "        obsi = utils.fetch_ground_obs(i, start, end)#Download obs data\n",
    "        obsi = utils.manipulate_obs_data(obsi,CHAOS7i)#Manipulate obs data to remove background mag field\n",
    "        \n",
    "        ###Save to netcdf file\n",
    "        ##obs.to_netcdf(path = PATH+observatory+str(start)[:4]+str(end)[:4]+'.nc')\n",
    "        \n",
    "        ###Save to csv file\n",
    "        # Convert xarray Dataset to pandas DataFrame\n",
    "        obfi = obsi.to_dataframe()\n",
    "        \n",
    "        # Save the DataFrame to a CSV file\n",
    "        obfi.to_csv(PATH+i+str(start)[:4]+str(end)[:4]+'.csv',index=True)\n",
    "    except:\n",
    "        continue"
   ]
  },
  {
   "cell_type": "code",
   "execution_count": null,
   "id": "29040a1e",
   "metadata": {},
   "outputs": [],
   "source": []
  }
 ],
 "metadata": {
  "kernelspec": {
   "display_name": "Python 3 (ipykernel)",
   "language": "python",
   "name": "python3"
  },
  "language_info": {
   "codemirror_mode": {
    "name": "ipython",
    "version": 3
   },
   "file_extension": ".py",
   "mimetype": "text/x-python",
   "name": "python",
   "nbconvert_exporter": "python",
   "pygments_lexer": "ipython3",
   "version": "3.8.10"
  }
 },
 "nbformat": 4,
 "nbformat_minor": 5
}
