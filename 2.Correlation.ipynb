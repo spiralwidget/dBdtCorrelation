{
 "cells": [
  {
   "cell_type": "code",
   "execution_count": 1,
   "id": "5fbc386e",
   "metadata": {},
   "outputs": [],
   "source": [
    "###Correlation between stations.\n",
    "\n",
    "from viresclient import SwarmRequest\n",
    "import hapiclient\n",
    "from hapiclient.util import pythonshell\n",
    "import pandas as pd\n",
    "import xarray as xr\n",
    "import numpy as np\n",
    "import matplotlib.pyplot as plt\n",
    "from datetime import datetime, timedelta\n",
    "from chaosmagpy import load_CHAOS_matfile\n",
    "from chaosmagpy.model_utils import synth_values\n",
    "from chaosmagpy.data_utils import mjd2000 # Modified Julian date\n",
    "\n",
    "import utils"
   ]
  },
  {
   "cell_type": "code",
   "execution_count": 3,
   "id": "30442fe4",
   "metadata": {},
   "outputs": [
    {
     "name": "stdout",
     "output_type": "stream",
     "text": [
      "Current working directory: /mnt/c/users/s1725621/Documents/PhDCode/Git/dBdtCorrelation/dBdtCorrelation\n"
     ]
    }
   ],
   "source": [
    "###Step 1: get current directory and set PATH variable to where data will be saved.\n",
    "\n",
    "import os\n",
    "\n",
    "# Get the current working directory\n",
    "current_path = os.getcwd()\n",
    "\n",
    "# Print the current working directory\n",
    "print(\"Current working directory:\", current_path)\n",
    "\n",
    "#define path to data folder where data will be placed. Print current path if you don't know what it is!\n",
    "PATH = '/mnt/c/users/s1725621/Documents/PhDCode/Git/dBdtCorrelation/data/'"
   ]
  },
  {
   "cell_type": "code",
   "execution_count": 5,
   "id": "ab1ed7e5",
   "metadata": {},
   "outputs": [
    {
     "name": "stdout",
     "output_type": "stream",
     "text": [
      "<xarray.Dataset>\n",
      "Dimensions:    (Timestamp: 11568960)\n",
      "Coordinates:\n",
      "  * Timestamp  (Timestamp) object '1998-01-01 00:00:00' ... '2019-12-31 23:59...\n",
      "Data variables:\n",
      "    B_N        (Timestamp) float64 -3.773 -4.174 -4.374 ... 15.56 15.66 15.86\n",
      "    B_E        (Timestamp) float64 27.4 27.39 27.39 ... -24.61 -24.71 -24.92\n",
      "    B_C        (Timestamp) float64 19.33 19.43 19.53 ... -41.75 -41.85 -41.85\n",
      "    B_H        (Timestamp) float64 -2.636 -3.036 -3.237 ... 13.59 13.68 13.87\n",
      "    dBdt       (Timestamp) float64 nan -0.4004 -0.2003 ... 0.09301 0.1854\n"
     ]
    }
   ],
   "source": [
    "###Step 2: Import dataset from csv\n",
    "observatory='NGK'\n",
    "obs=pd.read_csv(PATH + observatory +'19982020.csv',index_col='Timestamp')###Observatory Dataset downloaded\n",
    "obs=obs.to_xarray() #Into xarray\n",
    "\n",
    "print(obs)"
   ]
  },
  {
   "cell_type": "code",
   "execution_count": null,
   "id": "7279aded",
   "metadata": {},
   "outputs": [],
   "source": [
    "###Step 3: loop over all data and download dbdt for each one."
   ]
  }
 ],
 "metadata": {
  "kernelspec": {
   "display_name": "Python 3 (ipykernel)",
   "language": "python",
   "name": "python3"
  },
  "language_info": {
   "codemirror_mode": {
    "name": "ipython",
    "version": 3
   },
   "file_extension": ".py",
   "mimetype": "text/x-python",
   "name": "python",
   "nbconvert_exporter": "python",
   "pygments_lexer": "ipython3",
   "version": "3.8.10"
  }
 },
 "nbformat": 4,
 "nbformat_minor": 5
}
