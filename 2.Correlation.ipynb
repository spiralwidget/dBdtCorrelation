{
 "cells": [
  {
   "cell_type": "code",
   "execution_count": 48,
   "id": "71ff4657",
   "metadata": {},
   "outputs": [],
   "source": [
    "###Correlation between stations.\n",
    "\n",
    "from viresclient import SwarmRequest\n",
    "import hapiclient\n",
    "from hapiclient.util import pythonshell\n",
    "import pandas as pd\n",
    "import xarray as xr\n",
    "import numpy as np\n",
    "import matplotlib.pyplot as plt\n",
    "from datetime import datetime, timedelta\n",
    "from chaosmagpy import load_CHAOS_matfile\n",
    "from chaosmagpy.model_utils import synth_values\n",
    "from chaosmagpy.data_utils import mjd2000 # Modified Julian date\n",
    "import tqdm\n",
    "from sklearn.cluster import KMeans\n",
    "\n",
    "import utils"
   ]
  },
  {
   "cell_type": "code",
   "execution_count": 49,
   "id": "15e658b4",
   "metadata": {},
   "outputs": [
    {
     "name": "stdout",
     "output_type": "stream",
     "text": [
      "Current working directory: /mnt/c/users/s1725621/Documents/PhDCode/Git/dBdtCorrelation/dBdtCorrelation\n"
     ]
    }
   ],
   "source": [
    "###Step 1: get current directory and set PATH variable to where data will be saved.\n",
    "\n",
    "import os\n",
    "\n",
    "# Get the current working directory\n",
    "current_path = os.getcwd()\n",
    "\n",
    "# Print the current working directory\n",
    "print(\"Current working directory:\", current_path)\n",
    "\n",
    "#define path to data folder where data will be placed. Print current path if you don't know what it is!\n",
    "PATH = '/mnt/c/users/s1725621/Documents/PhDCode/Git/dBdtCorrelation/data/'"
   ]
  },
  {
   "cell_type": "code",
   "execution_count": 55,
   "id": "7ac71206",
   "metadata": {},
   "outputs": [
    {
     "name": "stdout",
     "output_type": "stream",
     "text": [
      "<xarray.Dataset>\n",
      "Dimensions:    (Timestamp: 11568960)\n",
      "Coordinates:\n",
      "  * Timestamp  (Timestamp) object '1998-01-01 00:00:00' ... '2019-12-31 23:59...\n",
      "Data variables:\n",
      "    B_N        (Timestamp) float64 -3.773 -4.174 -4.374 ... 15.56 15.66 15.86\n",
      "    B_E        (Timestamp) float64 27.4 27.39 27.39 ... -24.61 -24.71 -24.92\n",
      "    B_C        (Timestamp) float64 19.33 19.43 19.53 ... -41.75 -41.85 -41.85\n",
      "    B_H        (Timestamp) float64 -2.636 -3.036 -3.237 ... 13.59 13.68 13.87\n",
      "    dBdt       (Timestamp) float64 nan -0.4004 -0.2003 ... 0.09301 0.1854\n"
     ]
    }
   ],
   "source": [
    "###Step 2: Import dataset from csv\n",
    "observatory='NGK'\n",
    "obs=pd.read_csv(PATH + observatory +'19982020.csv',index_col='Timestamp')###Observatory Dataset downloaded\n",
    "obs=obs.to_xarray() #Into xarray\n",
    "\n",
    "print(obs)"
   ]
  },
  {
   "cell_type": "code",
   "execution_count": 56,
   "id": "04f102a7",
   "metadata": {},
   "outputs": [
    {
     "name": "stdout",
     "output_type": "stream",
     "text": [
      "<xarray.Dataset>\n",
      "Dimensions:    (Timestamp: 11568960)\n",
      "Coordinates:\n",
      "  * Timestamp  (Timestamp) object '1998-01-01 00:00:00' ... '2019-12-31 23:59...\n",
      "Data variables:\n",
      "    B_N        (Timestamp) float64 -3.773 -4.174 -4.374 ... 15.56 15.66 15.86\n",
      "    B_E        (Timestamp) float64 27.4 27.39 27.39 ... -24.61 -24.71 -24.92\n",
      "    B_C        (Timestamp) float64 19.33 19.43 19.53 ... -41.75 -41.85 -41.85\n",
      "    B_H        (Timestamp) float64 -2.636 -3.036 -3.237 ... 13.59 13.68 13.87\n",
      "    dBdt       (Timestamp) float64 nan -0.4004 -0.2003 ... 0.09301 0.1854\n"
     ]
    }
   ],
   "source": [
    "###Step 2: Import dataset from csv\n",
    "observatory='LER'\n",
    "obs=pd.read_csv(PATH + observatory +'19982020.csv',index_col='Timestamp')###Observatory Dataset downloaded\n",
    "obs=obs.to_xarray() #Into xarray\n",
    "\n",
    "print(obs)"
   ]
  },
  {
   "cell_type": "markdown",
   "id": "d838da88",
   "metadata": {},
   "source": [
    "# Looping over all observatories and producing .csv file of dBdt."
   ]
  },
  {
   "cell_type": "code",
   "execution_count": 51,
   "id": "54360610",
   "metadata": {},
   "outputs": [],
   "source": [
    "###Step 3: loop over all data and download dbdt for each one.\n",
    "from os import listdir\n",
    "from os.path import isfile, join\n",
    "onlyfiles = [f for f in listdir(PATH) if isfile(join(PATH, f))]"
   ]
  },
  {
   "cell_type": "code",
   "execution_count": 52,
   "id": "5d71f907",
   "metadata": {},
   "outputs": [],
   "source": [
    "allobsdbdt = pd.DataFrame()\n",
    "\n",
    "allobsdbdt.index = obs['Timestamp']"
   ]
  },
  {
   "cell_type": "code",
   "execution_count": 54,
   "id": "b44f6335",
   "metadata": {},
   "outputs": [
    {
     "name": "stdout",
     "output_type": "stream",
     "text": [
      "['ABG19982020.csv', 'ABK19982020.csv', 'BDV19982020.csv', 'BEL19982020.csv', 'BLC19982020.csv', 'BMT19982020.csv', 'BOU19982020.csv', 'BRW19982020.csv', 'BSL19982020.csv', 'CLF19982020.csv', 'CMO19982020.csv', 'CNB19982020.csv', 'ESK19982020.csv', 'EYR19982020.csv', 'FCC19982020.csv', 'FRD19982020.csv', 'FRN19982020.csv', 'FUR19982020.csv', 'GDH19982020.csv', 'GUA19982020.csv', 'GUI19982020.csv', 'HAD19982020.csv', 'HER19982020.csv', 'HLP19982020.csv', 'HON19982020.csv', 'HRB19982020.csv', 'IQA19982020.csv', 'IRT19982020.csv', 'KAK19982020.csv', 'LER19982020.csv', 'MEA19982020.csv', 'MMB19982020.csv', 'NAQ19982020.csv', 'NCK19982020.csv', 'NEW19982020.csv', 'NGK19982020.csv', 'NUR19982020.csv', 'OTT19982020.csv', 'PHU19982020.csv', 'RES19982020.csv', 'SBA19982020.csv', 'SIT19982020.csv', 'SJG19982020.csv', 'SOD19982020.csv', 'SPT19982020.csv', 'STJ19982020.csv', 'TAM19982020.csv', 'THL19982020.csv', 'THY19982020.csv', 'TUC19982020.csv', 'VIC19982020.csv', 'WNG19982020.csv', 'YKC19982020.csv']\n"
     ]
    },
    {
     "name": "stderr",
     "output_type": "stream",
     "text": [
      "  2%|███▎                                                                                                                                                                         | 1/53 [00:20<17:34, 20.28s/it]"
     ]
    },
    {
     "name": "stdout",
     "output_type": "stream",
     "text": [
      "                           B_N        B_E        B_C        B_H      dBdt\n",
      "Timestamp                                                                \n",
      "1998-01-01 00:00:00  -3.773208  27.396174  19.330086  -2.635878       NaN\n",
      "1998-01-01 00:01:00  -4.173536  27.386102  19.428714  -3.036327 -0.400449\n",
      "1998-01-01 00:02:00  -4.373865  27.386031  19.527994  -3.236618 -0.200291\n",
      "1998-01-01 00:03:00  -4.674845  27.375959  19.826947  -3.537738 -0.301121\n",
      "1998-01-01 00:04:00  -4.474199  27.385888  19.627533  -3.336935  0.200804\n",
      "...                        ...        ...        ...        ...       ...\n",
      "2019-12-31 23:55:00  15.555948 -24.614616 -41.745580  13.589963  0.107148\n",
      "2019-12-31 23:56:00  15.655632 -24.514715 -41.645363  13.696461  0.106498\n",
      "2019-12-31 23:57:00  15.555969 -24.614813 -41.745797  13.589970 -0.106491\n",
      "2019-12-31 23:58:00  15.656305 -24.714911 -41.845580  13.682978  0.093008\n",
      "2019-12-31 23:59:00  15.856315 -24.915009 -41.845037  13.868343  0.185364\n",
      "\n",
      "[11568960 rows x 5 columns]\n"
     ]
    },
    {
     "name": "stderr",
     "output_type": "stream",
     "text": [
      "\r",
      "  4%|██████▌                                                                                                                                                                      | 2/53 [00:43<18:47, 22.12s/it]"
     ]
    },
    {
     "name": "stdout",
     "output_type": "stream",
     "text": [
      "                           B_N        B_E        B_C        B_H      dBdt\n",
      "Timestamp                                                                \n",
      "1998-01-01 00:00:00  -3.773208  27.396174  19.330086  -2.635878       NaN\n",
      "1998-01-01 00:01:00  -4.173536  27.386102  19.428714  -3.036327 -0.400449\n",
      "1998-01-01 00:02:00  -4.373865  27.386031  19.527994  -3.236618 -0.200291\n",
      "1998-01-01 00:03:00  -4.674845  27.375959  19.826947  -3.537738 -0.301121\n",
      "1998-01-01 00:04:00  -4.474199  27.385888  19.627533  -3.336935  0.200804\n",
      "...                        ...        ...        ...        ...       ...\n",
      "2019-12-31 23:55:00  15.555948 -24.614616 -41.745580  13.589963  0.107148\n",
      "2019-12-31 23:56:00  15.655632 -24.514715 -41.645363  13.696461  0.106498\n",
      "2019-12-31 23:57:00  15.555969 -24.614813 -41.745797  13.589970 -0.106491\n",
      "2019-12-31 23:58:00  15.656305 -24.714911 -41.845580  13.682978  0.093008\n",
      "2019-12-31 23:59:00  15.856315 -24.915009 -41.845037  13.868343  0.185364\n",
      "\n",
      "[11568960 rows x 5 columns]\n"
     ]
    },
    {
     "name": "stderr",
     "output_type": "stream",
     "text": [
      "\r",
      "  6%|█████████▊                                                                                                                                                                   | 3/53 [01:05<18:13, 21.86s/it]"
     ]
    },
    {
     "name": "stdout",
     "output_type": "stream",
     "text": [
      "                           B_N        B_E        B_C        B_H      dBdt\n",
      "Timestamp                                                                \n",
      "1998-01-01 00:00:00  -3.773208  27.396174  19.330086  -2.635878       NaN\n",
      "1998-01-01 00:01:00  -4.173536  27.386102  19.428714  -3.036327 -0.400449\n",
      "1998-01-01 00:02:00  -4.373865  27.386031  19.527994  -3.236618 -0.200291\n",
      "1998-01-01 00:03:00  -4.674845  27.375959  19.826947  -3.537738 -0.301121\n",
      "1998-01-01 00:04:00  -4.474199  27.385888  19.627533  -3.336935  0.200804\n",
      "...                        ...        ...        ...        ...       ...\n",
      "2019-12-31 23:55:00  15.555948 -24.614616 -41.745580  13.589963  0.107148\n",
      "2019-12-31 23:56:00  15.655632 -24.514715 -41.645363  13.696461  0.106498\n",
      "2019-12-31 23:57:00  15.555969 -24.614813 -41.745797  13.589970 -0.106491\n",
      "2019-12-31 23:58:00  15.656305 -24.714911 -41.845580  13.682978  0.093008\n",
      "2019-12-31 23:59:00  15.856315 -24.915009 -41.845037  13.868343  0.185364\n",
      "\n",
      "[11568960 rows x 5 columns]\n"
     ]
    },
    {
     "name": "stderr",
     "output_type": "stream",
     "text": [
      "  6%|█████████▊                                                                                                                                                                   | 3/53 [01:06<18:26, 22.12s/it]\n"
     ]
    },
    {
     "ename": "KeyboardInterrupt",
     "evalue": "",
     "output_type": "error",
     "traceback": [
      "\u001b[0;31m---------------------------------------------------------------------------\u001b[0m",
      "\u001b[0;31mKeyboardInterrupt\u001b[0m                         Traceback (most recent call last)",
      "Cell \u001b[0;32mIn [54], line 4\u001b[0m\n\u001b[1;32m      2\u001b[0m \u001b[38;5;28;01mfor\u001b[39;00m i \u001b[38;5;129;01min\u001b[39;00m tqdm\u001b[38;5;241m.\u001b[39mtqdm(onlyfiles):\n\u001b[1;32m      3\u001b[0m     obsiname\u001b[38;5;241m=\u001b[39mi[\u001b[38;5;241m0\u001b[39m:\u001b[38;5;241m3\u001b[39m]\n\u001b[0;32m----> 4\u001b[0m     obsi\u001b[38;5;241m=\u001b[39m\u001b[43mpd\u001b[49m\u001b[38;5;241;43m.\u001b[39;49m\u001b[43mread_csv\u001b[49m\u001b[43m(\u001b[49m\u001b[43mPATH\u001b[49m\u001b[43m \u001b[49m\u001b[38;5;241;43m+\u001b[39;49m\u001b[43m \u001b[49m\u001b[43mi\u001b[49m\u001b[43m,\u001b[49m\u001b[43mindex_col\u001b[49m\u001b[38;5;241;43m=\u001b[39;49m\u001b[38;5;124;43m'\u001b[39;49m\u001b[38;5;124;43mTimestamp\u001b[39;49m\u001b[38;5;124;43m'\u001b[39;49m\u001b[43m)\u001b[49m\u001b[38;5;66;03m###Observatory Dataset downloaded\u001b[39;00m\n\u001b[1;32m      5\u001b[0m     \u001b[38;5;66;03m#allobsdbdt = allobsdbdt.assign(obsiname=obsi['dBdt'])\u001b[39;00m\n\u001b[1;32m      6\u001b[0m     allobsdbdt[obsiname] \u001b[38;5;241m=\u001b[39m obsi[\u001b[38;5;124m'\u001b[39m\u001b[38;5;124mdBdt\u001b[39m\u001b[38;5;124m'\u001b[39m]\n",
      "File \u001b[0;32m~/.local/lib/python3.8/site-packages/pandas/util/_decorators.py:211\u001b[0m, in \u001b[0;36mdeprecate_kwarg.<locals>._deprecate_kwarg.<locals>.wrapper\u001b[0;34m(*args, **kwargs)\u001b[0m\n\u001b[1;32m    209\u001b[0m     \u001b[38;5;28;01melse\u001b[39;00m:\n\u001b[1;32m    210\u001b[0m         kwargs[new_arg_name] \u001b[38;5;241m=\u001b[39m new_arg_value\n\u001b[0;32m--> 211\u001b[0m \u001b[38;5;28;01mreturn\u001b[39;00m \u001b[43mfunc\u001b[49m\u001b[43m(\u001b[49m\u001b[38;5;241;43m*\u001b[39;49m\u001b[43margs\u001b[49m\u001b[43m,\u001b[49m\u001b[43m \u001b[49m\u001b[38;5;241;43m*\u001b[39;49m\u001b[38;5;241;43m*\u001b[39;49m\u001b[43mkwargs\u001b[49m\u001b[43m)\u001b[49m\n",
      "File \u001b[0;32m~/.local/lib/python3.8/site-packages/pandas/util/_decorators.py:331\u001b[0m, in \u001b[0;36mdeprecate_nonkeyword_arguments.<locals>.decorate.<locals>.wrapper\u001b[0;34m(*args, **kwargs)\u001b[0m\n\u001b[1;32m    325\u001b[0m \u001b[38;5;28;01mif\u001b[39;00m \u001b[38;5;28mlen\u001b[39m(args) \u001b[38;5;241m>\u001b[39m num_allow_args:\n\u001b[1;32m    326\u001b[0m     warnings\u001b[38;5;241m.\u001b[39mwarn(\n\u001b[1;32m    327\u001b[0m         msg\u001b[38;5;241m.\u001b[39mformat(arguments\u001b[38;5;241m=\u001b[39m_format_argument_list(allow_args)),\n\u001b[1;32m    328\u001b[0m         \u001b[38;5;167;01mFutureWarning\u001b[39;00m,\n\u001b[1;32m    329\u001b[0m         stacklevel\u001b[38;5;241m=\u001b[39mfind_stack_level(),\n\u001b[1;32m    330\u001b[0m     )\n\u001b[0;32m--> 331\u001b[0m \u001b[38;5;28;01mreturn\u001b[39;00m \u001b[43mfunc\u001b[49m\u001b[43m(\u001b[49m\u001b[38;5;241;43m*\u001b[39;49m\u001b[43margs\u001b[49m\u001b[43m,\u001b[49m\u001b[43m \u001b[49m\u001b[38;5;241;43m*\u001b[39;49m\u001b[38;5;241;43m*\u001b[39;49m\u001b[43mkwargs\u001b[49m\u001b[43m)\u001b[49m\n",
      "File \u001b[0;32m~/.local/lib/python3.8/site-packages/pandas/io/parsers/readers.py:950\u001b[0m, in \u001b[0;36mread_csv\u001b[0;34m(filepath_or_buffer, sep, delimiter, header, names, index_col, usecols, squeeze, prefix, mangle_dupe_cols, dtype, engine, converters, true_values, false_values, skipinitialspace, skiprows, skipfooter, nrows, na_values, keep_default_na, na_filter, verbose, skip_blank_lines, parse_dates, infer_datetime_format, keep_date_col, date_parser, dayfirst, cache_dates, iterator, chunksize, compression, thousands, decimal, lineterminator, quotechar, quoting, doublequote, escapechar, comment, encoding, encoding_errors, dialect, error_bad_lines, warn_bad_lines, on_bad_lines, delim_whitespace, low_memory, memory_map, float_precision, storage_options)\u001b[0m\n\u001b[1;32m    935\u001b[0m kwds_defaults \u001b[38;5;241m=\u001b[39m _refine_defaults_read(\n\u001b[1;32m    936\u001b[0m     dialect,\n\u001b[1;32m    937\u001b[0m     delimiter,\n\u001b[0;32m   (...)\u001b[0m\n\u001b[1;32m    946\u001b[0m     defaults\u001b[38;5;241m=\u001b[39m{\u001b[38;5;124m\"\u001b[39m\u001b[38;5;124mdelimiter\u001b[39m\u001b[38;5;124m\"\u001b[39m: \u001b[38;5;124m\"\u001b[39m\u001b[38;5;124m,\u001b[39m\u001b[38;5;124m\"\u001b[39m},\n\u001b[1;32m    947\u001b[0m )\n\u001b[1;32m    948\u001b[0m kwds\u001b[38;5;241m.\u001b[39mupdate(kwds_defaults)\n\u001b[0;32m--> 950\u001b[0m \u001b[38;5;28;01mreturn\u001b[39;00m \u001b[43m_read\u001b[49m\u001b[43m(\u001b[49m\u001b[43mfilepath_or_buffer\u001b[49m\u001b[43m,\u001b[49m\u001b[43m \u001b[49m\u001b[43mkwds\u001b[49m\u001b[43m)\u001b[49m\n",
      "File \u001b[0;32m~/.local/lib/python3.8/site-packages/pandas/io/parsers/readers.py:611\u001b[0m, in \u001b[0;36m_read\u001b[0;34m(filepath_or_buffer, kwds)\u001b[0m\n\u001b[1;32m    608\u001b[0m     \u001b[38;5;28;01mreturn\u001b[39;00m parser\n\u001b[1;32m    610\u001b[0m \u001b[38;5;28;01mwith\u001b[39;00m parser:\n\u001b[0;32m--> 611\u001b[0m     \u001b[38;5;28;01mreturn\u001b[39;00m \u001b[43mparser\u001b[49m\u001b[38;5;241;43m.\u001b[39;49m\u001b[43mread\u001b[49m\u001b[43m(\u001b[49m\u001b[43mnrows\u001b[49m\u001b[43m)\u001b[49m\n",
      "File \u001b[0;32m~/.local/lib/python3.8/site-packages/pandas/io/parsers/readers.py:1778\u001b[0m, in \u001b[0;36mTextFileReader.read\u001b[0;34m(self, nrows)\u001b[0m\n\u001b[1;32m   1771\u001b[0m nrows \u001b[38;5;241m=\u001b[39m validate_integer(\u001b[38;5;124m\"\u001b[39m\u001b[38;5;124mnrows\u001b[39m\u001b[38;5;124m\"\u001b[39m, nrows)\n\u001b[1;32m   1772\u001b[0m \u001b[38;5;28;01mtry\u001b[39;00m:\n\u001b[1;32m   1773\u001b[0m     \u001b[38;5;66;03m# error: \"ParserBase\" has no attribute \"read\"\u001b[39;00m\n\u001b[1;32m   1774\u001b[0m     (\n\u001b[1;32m   1775\u001b[0m         index,\n\u001b[1;32m   1776\u001b[0m         columns,\n\u001b[1;32m   1777\u001b[0m         col_dict,\n\u001b[0;32m-> 1778\u001b[0m     ) \u001b[38;5;241m=\u001b[39m \u001b[38;5;28;43mself\u001b[39;49m\u001b[38;5;241;43m.\u001b[39;49m\u001b[43m_engine\u001b[49m\u001b[38;5;241;43m.\u001b[39;49m\u001b[43mread\u001b[49m\u001b[43m(\u001b[49m\u001b[43m  \u001b[49m\u001b[38;5;66;43;03m# type: ignore[attr-defined]\u001b[39;49;00m\n\u001b[1;32m   1779\u001b[0m \u001b[43m        \u001b[49m\u001b[43mnrows\u001b[49m\n\u001b[1;32m   1780\u001b[0m \u001b[43m    \u001b[49m\u001b[43m)\u001b[49m\n\u001b[1;32m   1781\u001b[0m \u001b[38;5;28;01mexcept\u001b[39;00m \u001b[38;5;167;01mException\u001b[39;00m:\n\u001b[1;32m   1782\u001b[0m     \u001b[38;5;28mself\u001b[39m\u001b[38;5;241m.\u001b[39mclose()\n",
      "File \u001b[0;32m~/.local/lib/python3.8/site-packages/pandas/io/parsers/c_parser_wrapper.py:230\u001b[0m, in \u001b[0;36mCParserWrapper.read\u001b[0;34m(self, nrows)\u001b[0m\n\u001b[1;32m    228\u001b[0m \u001b[38;5;28;01mtry\u001b[39;00m:\n\u001b[1;32m    229\u001b[0m     \u001b[38;5;28;01mif\u001b[39;00m \u001b[38;5;28mself\u001b[39m\u001b[38;5;241m.\u001b[39mlow_memory:\n\u001b[0;32m--> 230\u001b[0m         chunks \u001b[38;5;241m=\u001b[39m \u001b[38;5;28;43mself\u001b[39;49m\u001b[38;5;241;43m.\u001b[39;49m\u001b[43m_reader\u001b[49m\u001b[38;5;241;43m.\u001b[39;49m\u001b[43mread_low_memory\u001b[49m\u001b[43m(\u001b[49m\u001b[43mnrows\u001b[49m\u001b[43m)\u001b[49m\n\u001b[1;32m    231\u001b[0m         \u001b[38;5;66;03m# destructive to chunks\u001b[39;00m\n\u001b[1;32m    232\u001b[0m         data \u001b[38;5;241m=\u001b[39m _concatenate_chunks(chunks)\n",
      "File \u001b[0;32m~/.local/lib/python3.8/site-packages/pandas/_libs/parsers.pyx:808\u001b[0m, in \u001b[0;36mpandas._libs.parsers.TextReader.read_low_memory\u001b[0;34m()\u001b[0m\n",
      "File \u001b[0;32m~/.local/lib/python3.8/site-packages/pandas/_libs/parsers.pyx:890\u001b[0m, in \u001b[0;36mpandas._libs.parsers.TextReader._read_rows\u001b[0;34m()\u001b[0m\n",
      "File \u001b[0;32m~/.local/lib/python3.8/site-packages/pandas/_libs/parsers.pyx:1037\u001b[0m, in \u001b[0;36mpandas._libs.parsers.TextReader._convert_column_data\u001b[0;34m()\u001b[0m\n",
      "File \u001b[0;32m~/.local/lib/python3.8/site-packages/pandas/_libs/parsers.pyx:1083\u001b[0m, in \u001b[0;36mpandas._libs.parsers.TextReader._convert_tokens\u001b[0;34m()\u001b[0m\n",
      "File \u001b[0;32m~/.local/lib/python3.8/site-packages/pandas/_libs/parsers.pyx:1158\u001b[0m, in \u001b[0;36mpandas._libs.parsers.TextReader._convert_with_dtype\u001b[0;34m()\u001b[0m\n",
      "File \u001b[0;32m~/.local/lib/python3.8/site-packages/pandas/core/dtypes/common.py:1433\u001b[0m, in \u001b[0;36mis_extension_array_dtype\u001b[0;34m(arr_or_dtype)\u001b[0m\n\u001b[1;32m   1424\u001b[0m     \u001b[38;5;66;03m# Note: if other EA dtypes are ever held in HybridBlock, exclude those\u001b[39;00m\n\u001b[1;32m   1425\u001b[0m     \u001b[38;5;66;03m#  here too.\u001b[39;00m\n\u001b[1;32m   1426\u001b[0m     \u001b[38;5;66;03m# NB: need to check DatetimeTZDtype and not is_datetime64tz_dtype\u001b[39;00m\n\u001b[1;32m   1427\u001b[0m     \u001b[38;5;66;03m#  to exclude ArrowTimestampUSDtype\u001b[39;00m\n\u001b[1;32m   1428\u001b[0m     \u001b[38;5;28;01mreturn\u001b[39;00m \u001b[38;5;28misinstance\u001b[39m(dtype, ExtensionDtype) \u001b[38;5;129;01mand\u001b[39;00m \u001b[38;5;129;01mnot\u001b[39;00m \u001b[38;5;28misinstance\u001b[39m(\n\u001b[1;32m   1429\u001b[0m         dtype, (DatetimeTZDtype, PeriodDtype)\n\u001b[1;32m   1430\u001b[0m     )\n\u001b[0;32m-> 1433\u001b[0m \u001b[38;5;28;01mdef\u001b[39;00m \u001b[38;5;21mis_extension_array_dtype\u001b[39m(arr_or_dtype) \u001b[38;5;241m-\u001b[39m\u001b[38;5;241m>\u001b[39m \u001b[38;5;28mbool\u001b[39m:\n\u001b[1;32m   1434\u001b[0m     \u001b[38;5;124;03m\"\"\"\u001b[39;00m\n\u001b[1;32m   1435\u001b[0m \u001b[38;5;124;03m    Check if an object is a pandas extension array type.\u001b[39;00m\n\u001b[1;32m   1436\u001b[0m \n\u001b[0;32m   (...)\u001b[0m\n\u001b[1;32m   1476\u001b[0m \u001b[38;5;124;03m    False\u001b[39;00m\n\u001b[1;32m   1477\u001b[0m \u001b[38;5;124;03m    \"\"\"\u001b[39;00m\n\u001b[1;32m   1478\u001b[0m     dtype \u001b[38;5;241m=\u001b[39m \u001b[38;5;28mgetattr\u001b[39m(arr_or_dtype, \u001b[38;5;124m\"\u001b[39m\u001b[38;5;124mdtype\u001b[39m\u001b[38;5;124m\"\u001b[39m, arr_or_dtype)\n",
      "\u001b[0;31mKeyboardInterrupt\u001b[0m: "
     ]
    }
   ],
   "source": [
    "print(onlyfiles)\n",
    "for i in tqdm.tqdm(onlyfiles):\n",
    "    obsiname=i[0:3]\n",
    "    obsi=pd.read_csv(PATH + i,index_col='Timestamp')###Observatory Dataset downloaded\n",
    "    #allobsdbdt = allobsdbdt.assign(obsiname=obsi['dBdt'])\n",
    "    allobsdbdt[obsiname] = obsi['dBdt']\n",
    "    print(obsi)"
   ]
  },
  {
   "cell_type": "code",
   "execution_count": 33,
   "id": "0f801487",
   "metadata": {},
   "outputs": [],
   "source": [
    "###Step 4: save as a csv file.\n",
    "PATH = '/mnt/c/users/s1725621/Documents/PhDCode/Git/dBdtCorrelation/data_merged/'\n",
    "\n",
    "###Save to netcdf file\n",
    "#MAY NOT BE IN CORRECT FORMAT. May require xarray.\n",
    "#allobsdbdt.to_netcdf(path = PATH+'mergeddatafromobsdata.nc')\n",
    "\n",
    "###Save to csv file\n",
    "# Save the DataFrame to a CSV file\n",
    "allobsdbdt.to_csv(PATH+'mergeddatafromobsdata.csv',index=True)"
   ]
  },
  {
   "cell_type": "markdown",
   "id": "e9b0c247",
   "metadata": {},
   "source": [
    "# Correlation of different stations dBdt values."
   ]
  },
  {
   "cell_type": "code",
   "execution_count": null,
   "id": "4f82724f",
   "metadata": {},
   "outputs": [],
   "source": [
    "###Require cell here to import from csv exported above."
   ]
  },
  {
   "cell_type": "code",
   "execution_count": 45,
   "id": "e57e03a7",
   "metadata": {},
   "outputs": [
    {
     "name": "stdout",
     "output_type": "stream",
     "text": [
      "                          ABG       ABK       BDV       BEL       BLC  \\\n",
      "1998-01-01 00:01:00 -0.400449 -0.400449 -0.400449 -0.400449 -0.400449   \n",
      "1998-01-01 00:02:00 -0.200291 -0.200291 -0.200291 -0.200291 -0.200291   \n",
      "1998-01-01 00:03:00 -0.301121 -0.301121 -0.301121 -0.301121 -0.301121   \n",
      "1998-01-01 00:04:00  0.200804  0.200804  0.200804  0.200804  0.200804   \n",
      "1998-01-01 00:05:00 -0.100553 -0.100553 -0.100553 -0.100553 -0.100553   \n",
      "...                       ...       ...       ...       ...       ...   \n",
      "2019-12-31 23:55:00  0.107148  0.107148  0.107148  0.107148  0.107148   \n",
      "2019-12-31 23:56:00  0.106498  0.106498  0.106498  0.106498  0.106498   \n",
      "2019-12-31 23:57:00 -0.106491 -0.106491 -0.106491 -0.106491 -0.106491   \n",
      "2019-12-31 23:58:00  0.093008  0.093008  0.093008  0.093008  0.093008   \n",
      "2019-12-31 23:59:00  0.185364  0.185364  0.185364  0.185364  0.185364   \n",
      "\n",
      "                          BMT       BOU       BRW       BSL       CLF  ...  \\\n",
      "1998-01-01 00:01:00 -0.400449 -0.400449 -0.400449 -0.400449 -0.400449  ...   \n",
      "1998-01-01 00:02:00 -0.200291 -0.200291 -0.200291 -0.200291 -0.200291  ...   \n",
      "1998-01-01 00:03:00 -0.301121 -0.301121 -0.301121 -0.301121 -0.301121  ...   \n",
      "1998-01-01 00:04:00  0.200804  0.200804  0.200804  0.200804  0.200804  ...   \n",
      "1998-01-01 00:05:00 -0.100553 -0.100553 -0.100553 -0.100553 -0.100553  ...   \n",
      "...                       ...       ...       ...       ...       ...  ...   \n",
      "2019-12-31 23:55:00  0.107148  0.107148  0.107148  0.107148  0.107148  ...   \n",
      "2019-12-31 23:56:00  0.106498  0.106498  0.106498  0.106498  0.106498  ...   \n",
      "2019-12-31 23:57:00 -0.106491 -0.106491 -0.106491 -0.106491 -0.106491  ...   \n",
      "2019-12-31 23:58:00  0.093008  0.093008  0.093008  0.093008  0.093008  ...   \n",
      "2019-12-31 23:59:00  0.185364  0.185364  0.185364  0.185364  0.185364  ...   \n",
      "\n",
      "                          SOD       SPT       STJ       TAM       THL  \\\n",
      "1998-01-01 00:01:00 -0.400449 -0.400449 -0.400449 -0.400449 -0.400449   \n",
      "1998-01-01 00:02:00 -0.200291 -0.200291 -0.200291 -0.200291 -0.200291   \n",
      "1998-01-01 00:03:00 -0.301121 -0.301121 -0.301121 -0.301121 -0.301121   \n",
      "1998-01-01 00:04:00  0.200804  0.200804  0.200804  0.200804  0.200804   \n",
      "1998-01-01 00:05:00 -0.100553 -0.100553 -0.100553 -0.100553 -0.100553   \n",
      "...                       ...       ...       ...       ...       ...   \n",
      "2019-12-31 23:55:00  0.107148  0.107148  0.107148  0.107148  0.107148   \n",
      "2019-12-31 23:56:00  0.106498  0.106498  0.106498  0.106498  0.106498   \n",
      "2019-12-31 23:57:00 -0.106491 -0.106491 -0.106491 -0.106491 -0.106491   \n",
      "2019-12-31 23:58:00  0.093008  0.093008  0.093008  0.093008  0.093008   \n",
      "2019-12-31 23:59:00  0.185364  0.185364  0.185364  0.185364  0.185364   \n",
      "\n",
      "                          THY       TUC       VIC       WNG       YKC  \n",
      "1998-01-01 00:01:00 -0.400449 -0.400449 -0.400449 -0.400449 -0.400449  \n",
      "1998-01-01 00:02:00 -0.200291 -0.200291 -0.200291 -0.200291 -0.200291  \n",
      "1998-01-01 00:03:00 -0.301121 -0.301121 -0.301121 -0.301121 -0.301121  \n",
      "1998-01-01 00:04:00  0.200804  0.200804  0.200804  0.200804  0.200804  \n",
      "1998-01-01 00:05:00 -0.100553 -0.100553 -0.100553 -0.100553 -0.100553  \n",
      "...                       ...       ...       ...       ...       ...  \n",
      "2019-12-31 23:55:00  0.107148  0.107148  0.107148  0.107148  0.107148  \n",
      "2019-12-31 23:56:00  0.106498  0.106498  0.106498  0.106498  0.106498  \n",
      "2019-12-31 23:57:00 -0.106491 -0.106491 -0.106491 -0.106491 -0.106491  \n",
      "2019-12-31 23:58:00  0.093008  0.093008  0.093008  0.093008  0.093008  \n",
      "2019-12-31 23:59:00  0.185364  0.185364  0.185364  0.185364  0.185364  \n",
      "\n",
      "[11568576 rows x 53 columns]\n"
     ]
    }
   ],
   "source": [
    "print(allobsdbdt)"
   ]
  },
  {
   "cell_type": "code",
   "execution_count": 43,
   "id": "67ccb277",
   "metadata": {},
   "outputs": [
    {
     "name": "stderr",
     "output_type": "stream",
     "text": [
      "/home/spiralwidget/.local/lib/python3.8/site-packages/sklearn/cluster/_kmeans.py:1412: FutureWarning: The default value of `n_init` will change from 10 to 'auto' in 1.4. Set the value of `n_init` explicitly to suppress the warning\n",
      "  super()._check_params_vs_input(X, default_n_init=10)\n"
     ]
    },
    {
     "data": {
      "text/html": [
       "<style>#sk-container-id-1 {color: black;}#sk-container-id-1 pre{padding: 0;}#sk-container-id-1 div.sk-toggleable {background-color: white;}#sk-container-id-1 label.sk-toggleable__label {cursor: pointer;display: block;width: 100%;margin-bottom: 0;padding: 0.3em;box-sizing: border-box;text-align: center;}#sk-container-id-1 label.sk-toggleable__label-arrow:before {content: \"▸\";float: left;margin-right: 0.25em;color: #696969;}#sk-container-id-1 label.sk-toggleable__label-arrow:hover:before {color: black;}#sk-container-id-1 div.sk-estimator:hover label.sk-toggleable__label-arrow:before {color: black;}#sk-container-id-1 div.sk-toggleable__content {max-height: 0;max-width: 0;overflow: hidden;text-align: left;background-color: #f0f8ff;}#sk-container-id-1 div.sk-toggleable__content pre {margin: 0.2em;color: black;border-radius: 0.25em;background-color: #f0f8ff;}#sk-container-id-1 input.sk-toggleable__control:checked~div.sk-toggleable__content {max-height: 200px;max-width: 100%;overflow: auto;}#sk-container-id-1 input.sk-toggleable__control:checked~label.sk-toggleable__label-arrow:before {content: \"▾\";}#sk-container-id-1 div.sk-estimator input.sk-toggleable__control:checked~label.sk-toggleable__label {background-color: #d4ebff;}#sk-container-id-1 div.sk-label input.sk-toggleable__control:checked~label.sk-toggleable__label {background-color: #d4ebff;}#sk-container-id-1 input.sk-hidden--visually {border: 0;clip: rect(1px 1px 1px 1px);clip: rect(1px, 1px, 1px, 1px);height: 1px;margin: -1px;overflow: hidden;padding: 0;position: absolute;width: 1px;}#sk-container-id-1 div.sk-estimator {font-family: monospace;background-color: #f0f8ff;border: 1px dotted black;border-radius: 0.25em;box-sizing: border-box;margin-bottom: 0.5em;}#sk-container-id-1 div.sk-estimator:hover {background-color: #d4ebff;}#sk-container-id-1 div.sk-parallel-item::after {content: \"\";width: 100%;border-bottom: 1px solid gray;flex-grow: 1;}#sk-container-id-1 div.sk-label:hover label.sk-toggleable__label {background-color: #d4ebff;}#sk-container-id-1 div.sk-serial::before {content: \"\";position: absolute;border-left: 1px solid gray;box-sizing: border-box;top: 0;bottom: 0;left: 50%;z-index: 0;}#sk-container-id-1 div.sk-serial {display: flex;flex-direction: column;align-items: center;background-color: white;padding-right: 0.2em;padding-left: 0.2em;position: relative;}#sk-container-id-1 div.sk-item {position: relative;z-index: 1;}#sk-container-id-1 div.sk-parallel {display: flex;align-items: stretch;justify-content: center;background-color: white;position: relative;}#sk-container-id-1 div.sk-item::before, #sk-container-id-1 div.sk-parallel-item::before {content: \"\";position: absolute;border-left: 1px solid gray;box-sizing: border-box;top: 0;bottom: 0;left: 50%;z-index: -1;}#sk-container-id-1 div.sk-parallel-item {display: flex;flex-direction: column;z-index: 1;position: relative;background-color: white;}#sk-container-id-1 div.sk-parallel-item:first-child::after {align-self: flex-end;width: 50%;}#sk-container-id-1 div.sk-parallel-item:last-child::after {align-self: flex-start;width: 50%;}#sk-container-id-1 div.sk-parallel-item:only-child::after {width: 0;}#sk-container-id-1 div.sk-dashed-wrapped {border: 1px dashed gray;margin: 0 0.4em 0.5em 0.4em;box-sizing: border-box;padding-bottom: 0.4em;background-color: white;}#sk-container-id-1 div.sk-label label {font-family: monospace;font-weight: bold;display: inline-block;line-height: 1.2em;}#sk-container-id-1 div.sk-label-container {text-align: center;}#sk-container-id-1 div.sk-container {/* jupyter's `normalize.less` sets `[hidden] { display: none; }` but bootstrap.min.css set `[hidden] { display: none !important; }` so we also need the `!important` here to be able to override the default hidden behavior on the sphinx rendered scikit-learn.org. See: https://github.com/scikit-learn/scikit-learn/issues/21755 */display: inline-block !important;position: relative;}#sk-container-id-1 div.sk-text-repr-fallback {display: none;}</style><div id=\"sk-container-id-1\" class=\"sk-top-container\"><div class=\"sk-text-repr-fallback\"><pre>KMeans(n_clusters=5)</pre><b>In a Jupyter environment, please rerun this cell to show the HTML representation or trust the notebook. <br />On GitHub, the HTML representation is unable to render, please try loading this page with nbviewer.org.</b></div><div class=\"sk-container\" hidden><div class=\"sk-item\"><div class=\"sk-estimator sk-toggleable\"><input class=\"sk-toggleable__control sk-hidden--visually\" id=\"sk-estimator-id-1\" type=\"checkbox\" checked><label for=\"sk-estimator-id-1\" class=\"sk-toggleable__label sk-toggleable__label-arrow\">KMeans</label><div class=\"sk-toggleable__content\"><pre>KMeans(n_clusters=5)</pre></div></div></div></div></div>"
      ],
      "text/plain": [
       "KMeans(n_clusters=5)"
      ]
     },
     "execution_count": 43,
     "metadata": {},
     "output_type": "execute_result"
    }
   ],
   "source": [
    "# Drop rows with missing values\n",
    "allobsdbdt.dropna(inplace=True)\n",
    "\n",
    "# Perform k-means clustering\n",
    "k = 5  # Number of clusters\n",
    "kmeans = KMeans(n_clusters=k)\n",
    "kmeans.fit(allobsdbdt)"
   ]
  },
  {
   "cell_type": "code",
   "execution_count": 44,
   "id": "ece3f509",
   "metadata": {},
   "outputs": [
    {
     "data": {
      "image/png": "[encoded data removed]",
      "text/plain": [
       "<Figure size 1000x500 with 1 Axes>"
      ]
     },
     "metadata": {},
     "output_type": "display_data"
    },
    {
     "name": "stdout",
     "output_type": "stream",
     "text": [
      "Cluster Labels: [0 0 0 ... 0 0 0]\n"
     ]
    }
   ],
   "source": [
    "# Get cluster centers\n",
    "cluster_centers = kmeans.cluster_centers_\n",
    "\n",
    "# Assign cluster labels to each time series\n",
    "cluster_labels = kmeans.labels_\n",
    "\n",
    "# Plot the clustered time series\n",
    "plt.figure(figsize=(10, 5))\n",
    "for i in range(k):\n",
    "     plt.plot(allobsdbdt.columns, cluster_centers[i], label=f'Cluster {i+1} Center', marker='o')\n",
    "plt.title('Clustered Time Series')\n",
    "plt.xlabel('Time')\n",
    "plt.ylabel('Value')\n",
    "plt.legend()\n",
    "plt.show()\n",
    "\n",
    "# Display cluster labels\n",
    "print(\"Cluster Labels:\", cluster_labels)"
   ]
  },
  {
   "cell_type": "code",
   "execution_count": null,
   "id": "3f250dd7",
   "metadata": {},
   "outputs": [],
   "source": []
  }
 ],
 "metadata": {
  "kernelspec": {
   "display_name": "Python 3 (ipykernel)",
   "language": "python",
   "name": "python3"
  },
  "language_info": {
   "codemirror_mode": {
    "name": "ipython",
    "version": 3
   },
   "file_extension": ".py",
   "mimetype": "text/x-python",
   "name": "python",
   "nbconvert_exporter": "python",
   "pygments_lexer": "ipython3",
   "version": "3.8.10"
  }
 },
 "nbformat": 4,
 "nbformat_minor": 5
}
