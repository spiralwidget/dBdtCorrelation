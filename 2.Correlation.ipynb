{
 "cells": [
  {
   "cell_type": "code",
   "execution_count": 15,
   "id": "67aba929",
   "metadata": {},
   "outputs": [],
   "source": [
    "###Correlation between stations.\n",
    "\n",
    "from viresclient import SwarmRequest\n",
    "import hapiclient\n",
    "from hapiclient.util import pythonshell\n",
    "import pandas as pd\n",
    "import xarray as xr\n",
    "import numpy as np\n",
    "import matplotlib.pyplot as plt\n",
    "from datetime import datetime, timedelta\n",
    "from chaosmagpy import load_CHAOS_matfile\n",
    "from chaosmagpy.model_utils import synth_values\n",
    "from chaosmagpy.data_utils import mjd2000 # Modified Julian date\n",
    "import tqdm\n",
    "\n",
    "import utils"
   ]
  },
  {
   "cell_type": "code",
   "execution_count": 3,
   "id": "023916ac",
   "metadata": {},
   "outputs": [
    {
     "name": "stdout",
     "output_type": "stream",
     "text": [
      "Current working directory: /mnt/c/users/s1725621/Documents/PhDCode/Git/dBdtCorrelation/dBdtCorrelation\n"
     ]
    }
   ],
   "source": [
    "###Step 1: get current directory and set PATH variable to where data will be saved.\n",
    "\n",
    "import os\n",
    "\n",
    "# Get the current working directory\n",
    "current_path = os.getcwd()\n",
    "\n",
    "# Print the current working directory\n",
    "print(\"Current working directory:\", current_path)\n",
    "\n",
    "#define path to data folder where data will be placed. Print current path if you don't know what it is!\n",
    "PATH = '/mnt/c/users/s1725621/Documents/PhDCode/Git/dBdtCorrelation/data/'"
   ]
  },
  {
   "cell_type": "code",
   "execution_count": 5,
   "id": "96353da4",
   "metadata": {},
   "outputs": [
    {
     "name": "stdout",
     "output_type": "stream",
     "text": [
      "<xarray.Dataset>\n",
      "Dimensions:    (Timestamp: 11568960)\n",
      "Coordinates:\n",
      "  * Timestamp  (Timestamp) object '1998-01-01 00:00:00' ... '2019-12-31 23:59...\n",
      "Data variables:\n",
      "    B_N        (Timestamp) float64 -3.773 -4.174 -4.374 ... 15.56 15.66 15.86\n",
      "    B_E        (Timestamp) float64 27.4 27.39 27.39 ... -24.61 -24.71 -24.92\n",
      "    B_C        (Timestamp) float64 19.33 19.43 19.53 ... -41.75 -41.85 -41.85\n",
      "    B_H        (Timestamp) float64 -2.636 -3.036 -3.237 ... 13.59 13.68 13.87\n",
      "    dBdt       (Timestamp) float64 nan -0.4004 -0.2003 ... 0.09301 0.1854\n"
     ]
    }
   ],
   "source": [
    "###Step 2: Import dataset from csv\n",
    "observatory='NGK'\n",
    "obs=pd.read_csv(PATH + observatory +'19982020.csv',index_col='Timestamp')###Observatory Dataset downloaded\n",
    "obs=obs.to_xarray() #Into xarray\n",
    "\n",
    "print(obs)"
   ]
  },
  {
   "cell_type": "markdown",
   "id": "4115b72e",
   "metadata": {},
   "source": [
    "# Looping over all observatories and producing .csv file of dBdt."
   ]
  },
  {
   "cell_type": "code",
   "execution_count": 29,
   "id": "9d1098f3",
   "metadata": {},
   "outputs": [],
   "source": [
    "###Step 3: loop over all data and download dbdt for each one.\n",
    "from os import listdir\n",
    "from os.path import isfile, join\n",
    "onlyfiles = [f for f in listdir(PATH) if isfile(join(PATH, f))]"
   ]
  },
  {
   "cell_type": "code",
   "execution_count": 30,
   "id": "6a4abf8a",
   "metadata": {},
   "outputs": [],
   "source": [
    "allobsdbdt = pd.DataFrame()\n",
    "\n",
    "allobsdbdt.index = obs['Timestamp']"
   ]
  },
  {
   "cell_type": "code",
   "execution_count": 31,
   "id": "56d1a137",
   "metadata": {},
   "outputs": [
    {
     "name": "stdout",
     "output_type": "stream",
     "text": [
      "['ABG19982020.csv', 'ABK19982020.csv', 'BDV19982020.csv', 'BEL19982020.csv', 'BLC19982020.csv', 'BMT19982020.csv', 'BOU19982020.csv', 'BRW19982020.csv', 'BSL19982020.csv', 'CLF19982020.csv', 'CMO19982020.csv', 'CNB19982020.csv', 'ESK19982020.csv', 'EYR19982020.csv', 'FCC19982020.csv', 'FRD19982020.csv', 'FRN19982020.csv', 'FUR19982020.csv', 'GDH19982020.csv', 'GUA19982020.csv', 'GUI19982020.csv', 'HAD19982020.csv', 'HER19982020.csv', 'HLP19982020.csv', 'HON19982020.csv', 'HRB19982020.csv', 'IQA19982020.csv', 'IRT19982020.csv', 'KAK19982020.csv', 'LER19982020.csv', 'MEA19982020.csv', 'MMB19982020.csv', 'NAQ19982020.csv', 'NCK19982020.csv', 'NEW19982020.csv', 'NGK19982020.csv', 'NUR19982020.csv', 'OTT19982020.csv', 'PHU19982020.csv', 'RES19982020.csv', 'SBA19982020.csv', 'SIT19982020.csv', 'SJG19982020.csv', 'SOD19982020.csv', 'SPT19982020.csv', 'STJ19982020.csv', 'TAM19982020.csv', 'THL19982020.csv', 'THY19982020.csv', 'TUC19982020.csv', 'VIC19982020.csv', 'WNG19982020.csv', 'YKC19982020.csv']\n"
     ]
    },
    {
     "name": "stderr",
     "output_type": "stream",
     "text": [
      "100%|████████████████████████████████████████████████████████████████████████████████████████████████████████████████████████████████████████████████████████████████████████████| 53/53 [21:40<00:00, 24.53s/it]\n"
     ]
    }
   ],
   "source": [
    "print(onlyfiles)\n",
    "for i in tqdm.tqdm(onlyfiles):\n",
    "    obsiname=i[0:3]\n",
    "    obsi=pd.read_csv(PATH + i,index_col='Timestamp')###Observatory Dataset downloaded\n",
    "    #allobsdbdt = allobsdbdt.assign(obsiname=obsi['dBdt'])\n",
    "    allobsdbdt[obsiname] = obsi['dBdt'] "
   ]
  },
  {
   "cell_type": "code",
   "execution_count": 33,
   "id": "1a9921fb",
   "metadata": {},
   "outputs": [],
   "source": [
    "###Step 4: save as a csv file.\n",
    "PATH = '/mnt/c/users/s1725621/Documents/PhDCode/Git/dBdtCorrelation/data_merged/'\n",
    "\n",
    "###Save to netcdf file\n",
    "#MAY NOT BE IN CORRECT FORMAT. May require xarray.\n",
    "#allobsdbdt.to_netcdf(path = PATH+'mergeddatafromobsdata.nc')\n",
    "\n",
    "###Save to csv file\n",
    "# Save the DataFrame to a CSV file\n",
    "allobsdbdt.to_csv(PATH+'mergeddatafromobsdata.csv',index=True)"
   ]
  },
  {
   "cell_type": "code",
   "execution_count": null,
   "id": "3c151b49",
   "metadata": {},
   "outputs": [],
   "source": []
  }
 ],
 "metadata": {
  "kernelspec": {
   "display_name": "Python 3 (ipykernel)",
   "language": "python",
   "name": "python3"
  },
  "language_info": {
   "codemirror_mode": {
    "name": "ipython",
    "version": 3
   },
   "file_extension": ".py",
   "mimetype": "text/x-python",
   "name": "python",
   "nbconvert_exporter": "python",
   "pygments_lexer": "ipython3",
   "version": "3.8.10"
  }
 },
 "nbformat": 4,
 "nbformat_minor": 5
}
